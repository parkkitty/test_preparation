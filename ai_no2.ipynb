{
  "nbformat": 4,
  "nbformat_minor": 0,
  "metadata": {
    "colab": {
      "name": "ai-no2.ipynb",
      "provenance": [],
      "collapsed_sections": [],
      "authorship_tag": "ABX9TyOstt5gBpbrVoUb5bsdUds8",
      "include_colab_link": true
    },
    "kernelspec": {
      "name": "python3",
      "display_name": "Python 3"
    },
    "language_info": {
      "name": "python"
    }
  },
  "cells": [
    {
      "cell_type": "markdown",
      "metadata": {
        "id": "view-in-github",
        "colab_type": "text"
      },
      "source": [
        "<a href=\"https://colab.research.google.com/github/parkkitty/test_preparation/blob/master/ai_no2.ipynb\" target=\"_parent\"><img src=\"https://colab.research.google.com/assets/colab-badge.svg\" alt=\"Open In Colab\"/></a>"
      ]
    },
    {
      "cell_type": "code",
      "metadata": {
        "id": "0Z09z-2M8rdy"
      },
      "source": [
        "import tensorflow as tf\n",
        "from tensorflow.keras.datasets import mnist\n",
        "from tensorflow.keras.utils import to_categorical\n",
        "from tensorflow.keras.models import Sequential\n",
        "from tensorflow.keras.layers import Conv2D, MaxPooling2D, Dense, Flatten"
      ],
      "execution_count": null,
      "outputs": []
    },
    {
      "cell_type": "code",
      "metadata": {
        "id": "ThYDeWP39G-q"
      },
      "source": [
        "tf.random.set_seed(100)"
      ],
      "execution_count": null,
      "outputs": []
    },
    {
      "cell_type": "code",
      "metadata": {
        "id": "WcB4kFQR-B4b"
      },
      "source": [
        "(x_train,y_train),(x_test,y_test) = mnist.load_data()"
      ],
      "execution_count": null,
      "outputs": []
    },
    {
      "cell_type": "code",
      "metadata": {
        "colab": {
          "base_uri": "https://localhost:8080/"
        },
        "id": "LBjmpcv6-wgB",
        "outputId": "2c0366de-ca68-45a0-964a-90d7fde37e7a"
      },
      "source": [
        "x_train.shape"
      ],
      "execution_count": null,
      "outputs": [
        {
          "output_type": "execute_result",
          "data": {
            "text/plain": [
              "(60000, 28, 28)"
            ]
          },
          "metadata": {
            "tags": []
          },
          "execution_count": 18
        }
      ]
    },
    {
      "cell_type": "code",
      "metadata": {
        "id": "aWvQV_1z-Lvh"
      },
      "source": [
        "x_train = x_train[:10000]\n",
        "x_test = x_test[:10000]\n",
        "y_train = y_train[:10000]\n",
        "y_test = y_test[:10000]"
      ],
      "execution_count": null,
      "outputs": []
    },
    {
      "cell_type": "code",
      "metadata": {
        "id": "DL7BxzlS-YSk"
      },
      "source": [
        "x_train = x_train.reshape(x_train.shape[0],x_train.shape[1],x_train.shape[2],1) #Total Dataset Number, Num Row, Num Col, Dimension\n",
        "x_test = x_test.reshape(x_test.shape[0],x_test.shape[1],x_test.shape[2],1)\n",
        "\n",
        "y_train = to_categorical(y_train) # one-hot encoding\n",
        "y_test = to_categorical(y_test)\n"
      ],
      "execution_count": null,
      "outputs": []
    },
    {
      "cell_type": "code",
      "metadata": {
        "colab": {
          "base_uri": "https://localhost:8080/"
        },
        "id": "PEFZaEaDDlzM",
        "outputId": "26dccd99-7535-4ec7-aa75-7a02987b9283"
      },
      "source": [
        "y_test.shape"
      ],
      "execution_count": null,
      "outputs": [
        {
          "output_type": "execute_result",
          "data": {
            "text/plain": [
              "(10000, 10)"
            ]
          },
          "metadata": {
            "tags": []
          },
          "execution_count": 27
        }
      ]
    },
    {
      "cell_type": "code",
      "metadata": {
        "id": "AOK48WnBAlar"
      },
      "source": [
        "x_norm_train = x_train / 255.0\n",
        "x_norm_test = x_test /255.0"
      ],
      "execution_count": null,
      "outputs": []
    },
    {
      "cell_type": "code",
      "metadata": {
        "colab": {
          "base_uri": "https://localhost:8080/"
        },
        "id": "65QyC_ktAuHB",
        "outputId": "15541424-068e-4479-eed0-5a321ca82ab7"
      },
      "source": [
        "model = Sequential()\n",
        "model.add(Conv2D(16,3,activation='relu',kernel_initializer='glorot_normal',input_shape=(28,28,1)))\n",
        "model.add(MaxPooling2D(2,2))\n",
        "model.add(Flatten())\n",
        "model.add(Dense(15,activation='relu',kernel_initializer='glorot_normal'))\n",
        "model.add(Dense(10,activation='softmax'))\n",
        "\n",
        "opt = tf.keras.optimizers.SGD(learning_rate=0.1, momentum=0.9)\n",
        "model.compile(optimizer=opt, loss='categorical_crossentropy',metrics=['accuracy'])\n",
        "model.fit(x_norm_train,y_train, epochs = 5, batch_size=32, verbose=1)\n",
        "model.evaluate(x_norm_test,y_test,verbose=1)"
      ],
      "execution_count": null,
      "outputs": [
        {
          "output_type": "stream",
          "text": [
            "Epoch 1/5\n",
            "313/313 [==============================] - 4s 11ms/step - loss: 0.6801 - accuracy: 0.7884\n",
            "Epoch 2/5\n",
            "313/313 [==============================] - 3s 11ms/step - loss: 0.3444 - accuracy: 0.9033\n",
            "Epoch 3/5\n",
            "313/313 [==============================] - 3s 11ms/step - loss: 0.2757 - accuracy: 0.9234\n",
            "Epoch 4/5\n",
            "313/313 [==============================] - 3s 11ms/step - loss: 0.2407 - accuracy: 0.9347\n",
            "Epoch 5/5\n",
            "313/313 [==============================] - 3s 11ms/step - loss: 0.2048 - accuracy: 0.9461\n",
            "313/313 [==============================] - 2s 6ms/step - loss: 0.2062 - accuracy: 0.9455\n"
          ],
          "name": "stdout"
        },
        {
          "output_type": "execute_result",
          "data": {
            "text/plain": [
              "[0.20621901750564575, 0.9455000162124634]"
            ]
          },
          "metadata": {
            "tags": []
          },
          "execution_count": 28
        }
      ]
    }
  ]
}
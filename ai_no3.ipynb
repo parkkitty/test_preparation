{
  "nbformat": 4,
  "nbformat_minor": 0,
  "metadata": {
    "colab": {
      "name": "ai-no3.ipynb",
      "provenance": [],
      "collapsed_sections": [],
      "authorship_tag": "ABX9TyOBPhvRNZJWh7Re5FSGUPOZ",
      "include_colab_link": true
    },
    "kernelspec": {
      "name": "python3",
      "display_name": "Python 3"
    },
    "language_info": {
      "name": "python"
    }
  },
  "cells": [
    {
      "cell_type": "markdown",
      "metadata": {
        "id": "view-in-github",
        "colab_type": "text"
      },
      "source": [
        "<a href=\"https://colab.research.google.com/github/parkkitty/test_preparation/blob/master/ai_no3.ipynb\" target=\"_parent\"><img src=\"https://colab.research.google.com/assets/colab-badge.svg\" alt=\"Open In Colab\"/></a>"
      ]
    },
    {
      "cell_type": "code",
      "metadata": {
        "id": "diZaOz8xFTYM"
      },
      "source": [
        "import tensorflow as tf\n",
        "\n",
        "mnist = tf.keras.datasets.mnist"
      ],
      "execution_count": null,
      "outputs": []
    },
    {
      "cell_type": "code",
      "metadata": {
        "colab": {
          "base_uri": "https://localhost:8080/"
        },
        "id": "XbW8c0fqFb_E",
        "outputId": "ecbf1104-6068-4a3b-e522-b55a6347372e"
      },
      "source": [
        "(x_train, y_train),(x_test,y_test) = mnist.load_data()\n",
        "x_train, x_test = x_train/255.0, x_test/255.0\n",
        "y_train = tf.one_hot(y_train,depth=10)\n",
        "y_test = tf.one_hot(y_test,depth=10)"
      ],
      "execution_count": null,
      "outputs": [
        {
          "output_type": "stream",
          "text": [
            "Downloading data from https://storage.googleapis.com/tensorflow/tf-keras-datasets/mnist.npz\n",
            "11493376/11490434 [==============================] - 0s 0us/step\n"
          ],
          "name": "stdout"
        }
      ]
    },
    {
      "cell_type": "code",
      "metadata": {
        "id": "jAlj5LTsGJMS"
      },
      "source": [
        "model = tf.keras.models.Sequential()"
      ],
      "execution_count": null,
      "outputs": []
    },
    {
      "cell_type": "code",
      "metadata": {
        "id": "gpu6rKGZGPgM"
      },
      "source": [
        "model.add(tf.keras.layers.Flatten(input_shape=(28,28)))\n",
        "model.add(tf.keras.layers.Dense(50,activation='relu'))\n",
        "model.add(tf.keras.layers.Dense(10,activation='softmax'))\n",
        "# Model Setting"
      ],
      "execution_count": null,
      "outputs": []
    },
    {
      "cell_type": "code",
      "metadata": {
        "id": "Rl_Lw0bDG_Tt"
      },
      "source": [
        "def lr_schedule(epoch):\n",
        "  if epoch < 10:\n",
        "    lr = 0.1 + epoch * 0.1\n",
        "  else:\n",
        "    lr= 1.0 - (epoch * 0.04)\n",
        "  return lr\n"
      ],
      "execution_count": null,
      "outputs": []
    },
    {
      "cell_type": "code",
      "metadata": {
        "id": "pqV2CoWRIRUl"
      },
      "source": [
        "callback = tf.keras.callbacks.LearningRateScheduler(lr_schedule, verbose=1)"
      ],
      "execution_count": null,
      "outputs": []
    },
    {
      "cell_type": "code",
      "metadata": {
        "colab": {
          "base_uri": "https://localhost:8080/"
        },
        "id": "r31T1QoHIZP5",
        "outputId": "083ab0be-afb2-48c5-f67d-fb8c9b565504"
      },
      "source": [
        "callback = tf.keras.callbacks.LearningRateScheduler(lr_schedule, verbose=1)\n",
        "model.compile(optimizer=tf.keras.optimizers.SGD(),loss=tf.keras.losses.CategoricalCrossentropy(), metrics=['accuracy'])\n",
        "history = model.fit(x_train,y_train,epochs=25,validation_data=(x_test,y_test),callbacks=[callback],verbose=1)"
      ],
      "execution_count": null,
      "outputs": [
        {
          "output_type": "stream",
          "text": [
            "Epoch 1/25\n",
            "\n",
            "Epoch 00001: LearningRateScheduler reducing learning rate to 0.1.\n",
            "1875/1875 [==============================] - 3s 1ms/step - loss: 0.3213 - accuracy: 0.9066 - val_loss: 0.1913 - val_accuracy: 0.9447\n",
            "Epoch 2/25\n",
            "\n",
            "Epoch 00002: LearningRateScheduler reducing learning rate to 0.2.\n",
            "1875/1875 [==============================] - 3s 1ms/step - loss: 0.1740 - accuracy: 0.9481 - val_loss: 0.1502 - val_accuracy: 0.9532\n",
            "Epoch 3/25\n",
            "\n",
            "Epoch 00003: LearningRateScheduler reducing learning rate to 0.30000000000000004.\n",
            "1875/1875 [==============================] - 3s 1ms/step - loss: 0.1370 - accuracy: 0.9588 - val_loss: 0.1266 - val_accuracy: 0.9605\n",
            "Epoch 4/25\n",
            "\n",
            "Epoch 00004: LearningRateScheduler reducing learning rate to 0.4.\n",
            "1875/1875 [==============================] - 3s 1ms/step - loss: 0.1283 - accuracy: 0.9611 - val_loss: 0.1228 - val_accuracy: 0.9653\n",
            "Epoch 5/25\n",
            "\n",
            "Epoch 00005: LearningRateScheduler reducing learning rate to 0.5.\n",
            "1875/1875 [==============================] - 3s 1ms/step - loss: 0.1305 - accuracy: 0.9614 - val_loss: 0.1861 - val_accuracy: 0.9469\n",
            "Epoch 6/25\n",
            "\n",
            "Epoch 00006: LearningRateScheduler reducing learning rate to 0.6.\n",
            "1875/1875 [==============================] - 3s 1ms/step - loss: 0.1346 - accuracy: 0.9609 - val_loss: 0.1277 - val_accuracy: 0.9644\n",
            "Epoch 7/25\n",
            "\n",
            "Epoch 00007: LearningRateScheduler reducing learning rate to 0.7000000000000001.\n",
            "1875/1875 [==============================] - 3s 1ms/step - loss: 0.1511 - accuracy: 0.9588 - val_loss: 0.1808 - val_accuracy: 0.9537\n",
            "Epoch 8/25\n",
            "\n",
            "Epoch 00008: LearningRateScheduler reducing learning rate to 0.8.\n",
            "1875/1875 [==============================] - 3s 1ms/step - loss: 0.1686 - accuracy: 0.9564 - val_loss: 0.2096 - val_accuracy: 0.9483\n",
            "Epoch 9/25\n",
            "\n",
            "Epoch 00009: LearningRateScheduler reducing learning rate to 0.9.\n",
            "1875/1875 [==============================] - 3s 1ms/step - loss: 0.1919 - accuracy: 0.9532 - val_loss: 0.2478 - val_accuracy: 0.9474\n",
            "Epoch 10/25\n",
            "\n",
            "Epoch 00010: LearningRateScheduler reducing learning rate to 1.0.\n",
            "1875/1875 [==============================] - 3s 1ms/step - loss: 0.2204 - accuracy: 0.9491 - val_loss: 0.3057 - val_accuracy: 0.9401\n",
            "Epoch 11/25\n",
            "\n",
            "Epoch 00011: LearningRateScheduler reducing learning rate to 0.6.\n",
            "1875/1875 [==============================] - 3s 1ms/step - loss: 0.1091 - accuracy: 0.9710 - val_loss: 0.1713 - val_accuracy: 0.9653\n",
            "Epoch 12/25\n",
            "\n",
            "Epoch 00012: LearningRateScheduler reducing learning rate to 0.56.\n",
            "1875/1875 [==============================] - 3s 1ms/step - loss: 0.0747 - accuracy: 0.9790 - val_loss: 0.1590 - val_accuracy: 0.9667\n",
            "Epoch 13/25\n",
            "\n",
            "Epoch 00013: LearningRateScheduler reducing learning rate to 0.52.\n",
            "1875/1875 [==============================] - 3s 1ms/step - loss: 0.0582 - accuracy: 0.9828 - val_loss: 0.1378 - val_accuracy: 0.9723\n",
            "Epoch 14/25\n",
            "\n",
            "Epoch 00014: LearningRateScheduler reducing learning rate to 0.48.\n",
            "1875/1875 [==============================] - 3s 1ms/step - loss: 0.0491 - accuracy: 0.9850 - val_loss: 0.1538 - val_accuracy: 0.9673\n",
            "Epoch 15/25\n",
            "\n",
            "Epoch 00015: LearningRateScheduler reducing learning rate to 0.43999999999999995.\n",
            "1875/1875 [==============================] - 3s 1ms/step - loss: 0.0382 - accuracy: 0.9882 - val_loss: 0.1410 - val_accuracy: 0.9718\n",
            "Epoch 16/25\n",
            "\n",
            "Epoch 00016: LearningRateScheduler reducing learning rate to 0.4.\n",
            "1875/1875 [==============================] - 3s 1ms/step - loss: 0.0292 - accuracy: 0.9904 - val_loss: 0.1376 - val_accuracy: 0.9741\n",
            "Epoch 17/25\n",
            "\n",
            "Epoch 00017: LearningRateScheduler reducing learning rate to 0.36.\n",
            "1875/1875 [==============================] - 3s 1ms/step - loss: 0.0239 - accuracy: 0.9925 - val_loss: 0.1315 - val_accuracy: 0.9754\n",
            "Epoch 18/25\n",
            "\n",
            "Epoch 00018: LearningRateScheduler reducing learning rate to 0.31999999999999995.\n",
            "1875/1875 [==============================] - 3s 1ms/step - loss: 0.0181 - accuracy: 0.9938 - val_loss: 0.1410 - val_accuracy: 0.9738\n",
            "Epoch 19/25\n",
            "\n",
            "Epoch 00019: LearningRateScheduler reducing learning rate to 0.28.\n",
            "1875/1875 [==============================] - 3s 1ms/step - loss: 0.0139 - accuracy: 0.9959 - val_loss: 0.1416 - val_accuracy: 0.9743\n",
            "Epoch 20/25\n",
            "\n",
            "Epoch 00020: LearningRateScheduler reducing learning rate to 0.24.\n",
            "1875/1875 [==============================] - 3s 1ms/step - loss: 0.0116 - accuracy: 0.9965 - val_loss: 0.1458 - val_accuracy: 0.9740\n",
            "Epoch 21/25\n",
            "\n",
            "Epoch 00021: LearningRateScheduler reducing learning rate to 0.19999999999999996.\n",
            "1875/1875 [==============================] - 3s 1ms/step - loss: 0.0095 - accuracy: 0.9974 - val_loss: 0.1416 - val_accuracy: 0.9737\n",
            "Epoch 22/25\n",
            "\n",
            "Epoch 00022: LearningRateScheduler reducing learning rate to 0.16000000000000003.\n",
            "1875/1875 [==============================] - 3s 1ms/step - loss: 0.0080 - accuracy: 0.9982 - val_loss: 0.1432 - val_accuracy: 0.9743\n",
            "Epoch 23/25\n",
            "\n",
            "Epoch 00023: LearningRateScheduler reducing learning rate to 0.12.\n",
            "1875/1875 [==============================] - 3s 1ms/step - loss: 0.0072 - accuracy: 0.9984 - val_loss: 0.1431 - val_accuracy: 0.9749\n",
            "Epoch 24/25\n",
            "\n",
            "Epoch 00024: LearningRateScheduler reducing learning rate to 0.07999999999999996.\n",
            "1875/1875 [==============================] - 3s 1ms/step - loss: 0.0065 - accuracy: 0.9988 - val_loss: 0.1437 - val_accuracy: 0.9740\n",
            "Epoch 25/25\n",
            "\n",
            "Epoch 00025: LearningRateScheduler reducing learning rate to 0.040000000000000036.\n",
            "1875/1875 [==============================] - 3s 1ms/step - loss: 0.0061 - accuracy: 0.9988 - val_loss: 0.1426 - val_accuracy: 0.9742\n"
          ],
          "name": "stdout"
        }
      ]
    }
  ]
}
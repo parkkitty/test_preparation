{
  "nbformat": 4,
  "nbformat_minor": 0,
  "metadata": {
    "colab": {
      "name": "ai_no5.ipynb",
      "provenance": [],
      "collapsed_sections": [],
      "authorship_tag": "ABX9TyPWUkm3krpKY2g0YxarqYBX",
      "include_colab_link": true
    },
    "kernelspec": {
      "name": "python3",
      "display_name": "Python 3"
    },
    "language_info": {
      "name": "python"
    }
  },
  "cells": [
    {
      "cell_type": "markdown",
      "metadata": {
        "id": "view-in-github",
        "colab_type": "text"
      },
      "source": [
        "<a href=\"https://colab.research.google.com/github/parkkitty/test_preparation/blob/master/ai_no5.ipynb\" target=\"_parent\"><img src=\"https://colab.research.google.com/assets/colab-badge.svg\" alt=\"Open In Colab\"/></a>"
      ]
    },
    {
      "cell_type": "code",
      "metadata": {
        "id": "_6gneN1uVhCj"
      },
      "source": [
        "import tensorflow as tf"
      ],
      "execution_count": null,
      "outputs": []
    },
    {
      "cell_type": "code",
      "metadata": {
        "colab": {
          "base_uri": "https://localhost:8080/"
        },
        "id": "PzijcEnzWIVb",
        "outputId": "5622aa89-d760-4533-9e96-930ed606f9f8"
      },
      "source": [
        "(x_train,y_train),(x_test,y_test) = tf.keras.datasets.mnist.load_data()\n",
        "x_train.shape"
      ],
      "execution_count": null,
      "outputs": [
        {
          "output_type": "stream",
          "text": [
            "Downloading data from https://storage.googleapis.com/tensorflow/tf-keras-datasets/mnist.npz\n",
            "11493376/11490434 [==============================] - 0s 0us/step\n"
          ],
          "name": "stdout"
        },
        {
          "output_type": "execute_result",
          "data": {
            "text/plain": [
              "(60000, 28, 28)"
            ]
          },
          "metadata": {
            "tags": []
          },
          "execution_count": 3
        }
      ]
    },
    {
      "cell_type": "code",
      "metadata": {
        "colab": {
          "base_uri": "https://localhost:8080/"
        },
        "id": "xr3Ud7UHXUlE",
        "outputId": "01d9c421-8f6f-4121-c87a-f8713a6a289f"
      },
      "source": [
        "x_train = x_train.reshape(x_train.shape[0],x_train.shape[1],x_train.shape[2],1)\n",
        "x_test = x_test.reshape(x_test.shape[0],x_test.shape[1],x_test.shape[2],1)\n",
        "\n",
        "x_train.shape\n"
      ],
      "execution_count": null,
      "outputs": [
        {
          "output_type": "execute_result",
          "data": {
            "text/plain": [
              "(60000, 28, 28, 1)"
            ]
          },
          "metadata": {
            "tags": []
          },
          "execution_count": 4
        }
      ]
    },
    {
      "cell_type": "code",
      "metadata": {
        "id": "Rau2DEayXqPi"
      },
      "source": [
        "def subnetwork(x):\n",
        "  x1 = tf.keras.layers.Conv2D(filters=5, kernel_size=(3,3),padding='same')(x)\n",
        "  # From x2 5 filters\n",
        "\n",
        "  x2 = tf.keras.layers.Conv2D(filters=5, kernel_size=(3,3),padding='same')(x)\n",
        "  x2 = tf.keras.layers.Conv2D(filters=5, kernel_size=(3,3), padding='same')(x2)\n",
        "  # From x3 5 Filters\n",
        "\n",
        "  x3 = tf.keras.layers.MaxPooling2D(pool_size=(3,3),strides=1, padding='same')(x)\n",
        "  # From MaxPooling 3 Depth \n",
        "  return tf.keras.layers.concatenate([x1,x2, x3], axis=3)"
      ],
      "execution_count": 40,
      "outputs": []
    },
    {
      "cell_type": "code",
      "metadata": {
        "id": "-A5qA5-Pa5CE"
      },
      "source": [
        "\n",
        "inputs = tf.keras.Input(shape=(32,32,3))\n",
        "x =inputs\n",
        "\n"
      ],
      "execution_count": 41,
      "outputs": []
    },
    {
      "cell_type": "code",
      "metadata": {
        "colab": {
          "base_uri": "https://localhost:8080/"
        },
        "id": "x_YVf7fudatc",
        "outputId": "06b00b78-e218-43e4-9f82-a9479652df6a"
      },
      "source": [
        "x.shape"
      ],
      "execution_count": 42,
      "outputs": [
        {
          "output_type": "execute_result",
          "data": {
            "text/plain": [
              "TensorShape([None, 32, 32, 3])"
            ]
          },
          "metadata": {
            "tags": []
          },
          "execution_count": 42
        }
      ]
    },
    {
      "cell_type": "code",
      "metadata": {
        "colab": {
          "base_uri": "https://localhost:8080/"
        },
        "id": "y7ou2ByNbMCr",
        "outputId": "4b9d5180-b3bf-494f-91ed-a6d86fc4a869"
      },
      "source": [
        "x = subnetwork(x) # 32,32,13\n",
        "x = tf.keras.layers.MaxPooling2D(pool_size=(2,2),strides=2)(x) # 16,16,13\n",
        "x = subnetwork(x) # 16,16,(13+10=23)\n",
        "x = tf.keras.layers.MaxPooling2D(pool_size=(2,2),strides=2)(x) # 8,8,23\n",
        "x = subnetwork(x) # 8,8,(23+10=33)\n",
        "x = tf.keras.layers.AveragePooling2D(pool_size=(8,8))(x)\n",
        "x = tf.keras.layers.Dense(5,activation='softmax')(x)\n",
        "output = x\n",
        "model = tf.keras.Model(inputs,output)\n",
        "model.summary()"
      ],
      "execution_count": 43,
      "outputs": [
        {
          "output_type": "stream",
          "text": [
            "Model: \"model_5\"\n",
            "__________________________________________________________________________________________________\n",
            "Layer (type)                    Output Shape         Param #     Connected to                     \n",
            "==================================================================================================\n",
            "input_9 (InputLayer)            [(None, 32, 32, 3)]  0                                            \n",
            "__________________________________________________________________________________________________\n",
            "conv2d_75 (Conv2D)              (None, 32, 32, 5)    140         input_9[0][0]                    \n",
            "__________________________________________________________________________________________________\n",
            "conv2d_74 (Conv2D)              (None, 32, 32, 5)    140         input_9[0][0]                    \n",
            "__________________________________________________________________________________________________\n",
            "conv2d_76 (Conv2D)              (None, 32, 32, 5)    230         conv2d_75[0][0]                  \n",
            "__________________________________________________________________________________________________\n",
            "max_pooling2d_41 (MaxPooling2D) (None, 32, 32, 3)    0           input_9[0][0]                    \n",
            "__________________________________________________________________________________________________\n",
            "concatenate_24 (Concatenate)    (None, 32, 32, 13)   0           conv2d_74[0][0]                  \n",
            "                                                                 conv2d_76[0][0]                  \n",
            "                                                                 max_pooling2d_41[0][0]           \n",
            "__________________________________________________________________________________________________\n",
            "max_pooling2d_42 (MaxPooling2D) (None, 16, 16, 13)   0           concatenate_24[0][0]             \n",
            "__________________________________________________________________________________________________\n",
            "conv2d_78 (Conv2D)              (None, 16, 16, 5)    590         max_pooling2d_42[0][0]           \n",
            "__________________________________________________________________________________________________\n",
            "conv2d_77 (Conv2D)              (None, 16, 16, 5)    590         max_pooling2d_42[0][0]           \n",
            "__________________________________________________________________________________________________\n",
            "conv2d_79 (Conv2D)              (None, 16, 16, 5)    230         conv2d_78[0][0]                  \n",
            "__________________________________________________________________________________________________\n",
            "max_pooling2d_43 (MaxPooling2D) (None, 16, 16, 13)   0           max_pooling2d_42[0][0]           \n",
            "__________________________________________________________________________________________________\n",
            "concatenate_25 (Concatenate)    (None, 16, 16, 23)   0           conv2d_77[0][0]                  \n",
            "                                                                 conv2d_79[0][0]                  \n",
            "                                                                 max_pooling2d_43[0][0]           \n",
            "__________________________________________________________________________________________________\n",
            "max_pooling2d_44 (MaxPooling2D) (None, 8, 8, 23)     0           concatenate_25[0][0]             \n",
            "__________________________________________________________________________________________________\n",
            "conv2d_81 (Conv2D)              (None, 8, 8, 5)      1040        max_pooling2d_44[0][0]           \n",
            "__________________________________________________________________________________________________\n",
            "conv2d_80 (Conv2D)              (None, 8, 8, 5)      1040        max_pooling2d_44[0][0]           \n",
            "__________________________________________________________________________________________________\n",
            "conv2d_82 (Conv2D)              (None, 8, 8, 5)      230         conv2d_81[0][0]                  \n",
            "__________________________________________________________________________________________________\n",
            "max_pooling2d_45 (MaxPooling2D) (None, 8, 8, 23)     0           max_pooling2d_44[0][0]           \n",
            "__________________________________________________________________________________________________\n",
            "concatenate_26 (Concatenate)    (None, 8, 8, 33)     0           conv2d_80[0][0]                  \n",
            "                                                                 conv2d_82[0][0]                  \n",
            "                                                                 max_pooling2d_45[0][0]           \n",
            "__________________________________________________________________________________________________\n",
            "average_pooling2d_6 (AveragePoo (None, 1, 1, 33)     0           concatenate_26[0][0]             \n",
            "__________________________________________________________________________________________________\n",
            "dense_6 (Dense)                 (None, 1, 1, 5)      170         average_pooling2d_6[0][0]        \n",
            "==================================================================================================\n",
            "Total params: 4,400\n",
            "Trainable params: 4,400\n",
            "Non-trainable params: 0\n",
            "__________________________________________________________________________________________________\n"
          ],
          "name": "stdout"
        }
      ]
    }
  ]
}
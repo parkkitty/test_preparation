{
  "nbformat": 4,
  "nbformat_minor": 0,
  "metadata": {
    "colab": {
      "name": "categorical_crossentropy.ipynb",
      "provenance": [],
      "collapsed_sections": [],
      "authorship_tag": "ABX9TyMYGKeYTPLXo7+vN0byi51K",
      "include_colab_link": true
    },
    "kernelspec": {
      "name": "python3",
      "display_name": "Python 3"
    },
    "language_info": {
      "name": "python"
    }
  },
  "cells": [
    {
      "cell_type": "markdown",
      "metadata": {
        "id": "view-in-github",
        "colab_type": "text"
      },
      "source": [
        "<a href=\"https://colab.research.google.com/github/parkkitty/test_preparation/blob/master/categorical_crossentropy.ipynb\" target=\"_parent\"><img src=\"https://colab.research.google.com/assets/colab-badge.svg\" alt=\"Open In Colab\"/></a>"
      ]
    },
    {
      "cell_type": "code",
      "metadata": {
        "id": "7f2WTRmjRMa0"
      },
      "source": [
        "import tensorflow as tf\n",
        "from tensorflow import keras\n",
        "\n",
        "import numpy as np\n",
        "import matplotlib.pyplot as plt"
      ],
      "execution_count": null,
      "outputs": []
    },
    {
      "cell_type": "code",
      "metadata": {
        "colab": {
          "base_uri": "https://localhost:8080/"
        },
        "id": "l7xM32ZrRcFW",
        "outputId": "b4f7abe3-df78-4657-96c0-6cd02283639e"
      },
      "source": [
        "#MNIST Fashion 가져오기\n",
        "\n",
        "fashion_mnist = keras.datasets.fashion_mnist\n",
        "(train_images,train_labels),(test_images, test_labels) =  fashion_mnist.load_data()"
      ],
      "execution_count": null,
      "outputs": [
        {
          "output_type": "stream",
          "text": [
            "Downloading data from https://storage.googleapis.com/tensorflow/tf-keras-datasets/train-labels-idx1-ubyte.gz\n",
            "32768/29515 [=================================] - 0s 0us/step\n",
            "Downloading data from https://storage.googleapis.com/tensorflow/tf-keras-datasets/train-images-idx3-ubyte.gz\n",
            "26427392/26421880 [==============================] - 0s 0us/step\n",
            "Downloading data from https://storage.googleapis.com/tensorflow/tf-keras-datasets/t10k-labels-idx1-ubyte.gz\n",
            "8192/5148 [===============================================] - 0s 0us/step\n",
            "Downloading data from https://storage.googleapis.com/tensorflow/tf-keras-datasets/t10k-images-idx3-ubyte.gz\n",
            "4423680/4422102 [==============================] - 0s 0us/step\n"
          ],
          "name": "stdout"
        }
      ]
    },
    {
      "cell_type": "code",
      "metadata": {
        "id": "LoDfOvQxR2m0"
      },
      "source": [
        "train_images = train_images.reshape(train_images.shape[0],train_images.shape[1],train_images.shape[2],1)\n",
        "test_images = test_images.reshape(test_images.shape[0],test_images.shape[1],test_images.shape[2],1)"
      ],
      "execution_count": null,
      "outputs": []
    },
    {
      "cell_type": "code",
      "metadata": {
        "id": "dluA9iPWSD20"
      },
      "source": [
        "from tensorflow.keras.layers import MaxPool2D, Conv2D, Flatten, Dense, Dropout\n",
        "from tensorflow.keras.models import Sequential\n",
        "\n",
        "model = Sequential()"
      ],
      "execution_count": null,
      "outputs": []
    },
    {
      "cell_type": "code",
      "metadata": {
        "colab": {
          "base_uri": "https://localhost:8080/"
        },
        "id": "42gLk782SW-9",
        "outputId": "ec388446-f675-4e46-aa8a-df916cd4be0c"
      },
      "source": [
        "model.add(Conv2D(filters=10,kernel_size=(5,5),input_shape = (28,28,1),activation='relu',padding='same')) #Layer 앞에는 항상 input_shape 적어줄 것\n",
        "model.add(MaxPool2D((2,2)))\n",
        "model.add(Conv2D(filters=20,kernel_size=(5,5),activation='relu', padding='same'))\n",
        "model.add(MaxPool2D((2,2)))\n",
        "model.add(Flatten())\n",
        "model.add(Dense(100,activation='relu'))\n",
        "model.add(Dense(10,activation='softmax'))\n",
        "\n",
        "model.summary()"
      ],
      "execution_count": null,
      "outputs": [
        {
          "output_type": "stream",
          "text": [
            "Model: \"sequential\"\n",
            "_________________________________________________________________\n",
            "Layer (type)                 Output Shape              Param #   \n",
            "=================================================================\n",
            "conv2d (Conv2D)              (None, 28, 28, 10)        260       \n",
            "_________________________________________________________________\n",
            "max_pooling2d (MaxPooling2D) (None, 14, 14, 10)        0         \n",
            "_________________________________________________________________\n",
            "conv2d_1 (Conv2D)            (None, 14, 14, 20)        5020      \n",
            "_________________________________________________________________\n",
            "max_pooling2d_1 (MaxPooling2 (None, 7, 7, 20)          0         \n",
            "_________________________________________________________________\n",
            "flatten (Flatten)            (None, 980)               0         \n",
            "_________________________________________________________________\n",
            "dense (Dense)                (None, 100)               98100     \n",
            "_________________________________________________________________\n",
            "dense_1 (Dense)              (None, 10)                1010      \n",
            "=================================================================\n",
            "Total params: 104,390\n",
            "Trainable params: 104,390\n",
            "Non-trainable params: 0\n",
            "_________________________________________________________________\n"
          ],
          "name": "stdout"
        }
      ]
    },
    {
      "cell_type": "code",
      "metadata": {
        "id": "-3Bdod8kTWxt"
      },
      "source": [
        "model.compile(optimizer='adam',loss='sparse_categorical_crossentropy',metrics=['accuracy']) # one-hot -> categorical_crossentropy , sparse_categorical_crossentropy -> [0,1,2,3,4,5 ...]\n",
        "EPOCHS = 5"
      ],
      "execution_count": null,
      "outputs": []
    },
    {
      "cell_type": "code",
      "metadata": {
        "colab": {
          "base_uri": "https://localhost:8080/"
        },
        "id": "H9cKuTzxTyfU",
        "outputId": "48c9cea2-c333-42ae-fa73-cfa0265eb725"
      },
      "source": [
        "hist = model.fit(test_images,test_labels,epochs=EPOCHS)\n",
        "model.evaluate(test_images,test_labels,verbose=1)"
      ],
      "execution_count": null,
      "outputs": [
        {
          "output_type": "stream",
          "text": [
            "Epoch 1/5\n",
            "313/313 [==============================] - 10s 30ms/step - loss: 1.5233 - accuracy: 0.7179\n",
            "Epoch 2/5\n",
            "313/313 [==============================] - 9s 30ms/step - loss: 0.4392 - accuracy: 0.8470\n",
            "Epoch 3/5\n",
            "313/313 [==============================] - 9s 30ms/step - loss: 0.3288 - accuracy: 0.8814\n",
            "Epoch 4/5\n",
            "313/313 [==============================] - 9s 30ms/step - loss: 0.2767 - accuracy: 0.9010\n",
            "Epoch 5/5\n",
            "313/313 [==============================] - 9s 30ms/step - loss: 0.2244 - accuracy: 0.9188\n",
            "313/313 [==============================] - 4s 12ms/step - loss: 0.2157 - accuracy: 0.9193\n"
          ],
          "name": "stdout"
        },
        {
          "output_type": "execute_result",
          "data": {
            "text/plain": [
              "[0.2157202810049057, 0.9193000197410583]"
            ]
          },
          "metadata": {
            "tags": []
          },
          "execution_count": 10
        }
      ]
    },
    {
      "cell_type": "code",
      "metadata": {
        "id": "imEpKSinUX17"
      },
      "source": [
        "# Test 틀린 곳 찾아 고치기\n",
        "from tensorflow.keras.datasets import mnist\n",
        "from tensorflow.keras.utils import to_categorical\n",
        "from tensorflow.keras.models import Sequential\n",
        "\n",
        "tf.random.set_seed(100)"
      ],
      "execution_count": null,
      "outputs": []
    },
    {
      "cell_type": "code",
      "metadata": {
        "id": "niYci1PxU4Yd"
      },
      "source": [
        "(train_x,train_y),(test_x,test_y) = mnist.load_data()\n",
        "train_x = train_x[:10000]\n",
        "train_y = train_y[:10000]\n",
        "test_x = test_x[:10000]\n",
        "test_y = test_y[:10000]"
      ],
      "execution_count": null,
      "outputs": []
    },
    {
      "cell_type": "code",
      "metadata": {
        "colab": {
          "base_uri": "https://localhost:8080/"
        },
        "id": "GNh7-MJ_VdpN",
        "outputId": "22405f3f-8f15-4ede-a6e0-0e6e7c151498"
      },
      "source": [
        "train_x.shape"
      ],
      "execution_count": null,
      "outputs": [
        {
          "output_type": "execute_result",
          "data": {
            "text/plain": [
              "(10000, 28, 28)"
            ]
          },
          "metadata": {
            "tags": []
          },
          "execution_count": 7
        }
      ]
    },
    {
      "cell_type": "code",
      "metadata": {
        "id": "L2a79SqNVSk9"
      },
      "source": [
        "#################수정####################\n",
        "train_x = train_x.reshape(train_x.shape[0],28,28,1)\n",
        "test_x = test_x.reshape(test_x.shape[0],28,28,1)\n",
        "\n",
        "train_y = to_categorical(train_y)\n",
        "test_y = to_categorical(test_y)\n",
        "\n",
        "train_norm = train_x / 255.0\n",
        "test_norm = test_x / 255.0\n",
        "\n",
        "model2 = Sequential()\n",
        "model2.add(Conv2D(16,(3,3),activation='relu', kernel_initializer='glorot_normal',input_shape=(28,28,1)))\n",
        "model2.add(MaxPool2D((2,2)))\n",
        "model2.add(Flatten())\n",
        "model2.add(Dense(15,activation='relu',kernel_initializer='glorot_normal'))\n",
        "model2.add(Dense(10, activation='softmax'))\n",
        "\n",
        "opt = tf.keras.optimizers.SGD(learning_rate=1.0, momentum=0.9)\n",
        "model2.compile(optimizer=opt, loss = 'sparse_categorical_crossentropy',metrics=['accuracy'])\n",
        "# sparse_categorical_crossentropy -> categorical_crossentropy\n",
        "\n",
        "##############################################"
      ],
      "execution_count": null,
      "outputs": []
    },
    {
      "cell_type": "code",
      "metadata": {
        "id": "rP_xQ23fXdOd"
      },
      "source": [
        "\n",
        "model3 = Sequential()\n",
        "model3.add(Conv2D(16,(3,3),activation='relu', kernel_initializer='glorot_normal',input_shape=(28,28,1)))\n",
        "model3.add(MaxPool2D((2,2)))\n",
        "model3.add(Flatten())\n",
        "model3.add(Dense(15,activation='relu',kernel_initializer='glorot_normal'))\n",
        "model3.add(Dense(10, activation='softmax'))\n",
        "\n",
        "opt3 = tf.keras.optimizers.SGD(learning_rate=0.1, momentum=0.9)\n",
        "model3.compile(optimizer=opt3, loss = 'categorical_crossentropy',metrics=['accuracy'])"
      ],
      "execution_count": 17,
      "outputs": []
    },
    {
      "cell_type": "code",
      "metadata": {
        "colab": {
          "base_uri": "https://localhost:8080/"
        },
        "id": "CB3gmvbpWqRj",
        "outputId": "3b7e7c5c-fb80-441d-d20e-e5151df3ce96"
      },
      "source": [
        "model3.fit(train_norm,train_y, epochs=5, batch_size=32,verbose=1)"
      ],
      "execution_count": 18,
      "outputs": [
        {
          "output_type": "stream",
          "text": [
            "Epoch 1/5\n",
            "313/313 [==============================] - 3s 10ms/step - loss: 0.6204 - accuracy: 0.8099\n",
            "Epoch 2/5\n",
            "313/313 [==============================] - 3s 10ms/step - loss: 0.3058 - accuracy: 0.9118\n",
            "Epoch 3/5\n",
            "313/313 [==============================] - 3s 10ms/step - loss: 0.2553 - accuracy: 0.9284\n",
            "Epoch 4/5\n",
            "313/313 [==============================] - 3s 9ms/step - loss: 0.2278 - accuracy: 0.9397\n",
            "Epoch 5/5\n",
            "313/313 [==============================] - 3s 9ms/step - loss: 0.1922 - accuracy: 0.9461\n"
          ],
          "name": "stdout"
        },
        {
          "output_type": "execute_result",
          "data": {
            "text/plain": [
              "<tensorflow.python.keras.callbacks.History at 0x7f2dece84490>"
            ]
          },
          "metadata": {
            "tags": []
          },
          "execution_count": 18
        }
      ]
    },
    {
      "cell_type": "code",
      "metadata": {
        "colab": {
          "base_uri": "https://localhost:8080/"
        },
        "id": "wDLsEUFJYIqi",
        "outputId": "af1ab422-4bff-49b1-a234-84e95cf71aec"
      },
      "source": [
        "model3.evaluate(test_x,test_y,verbose=1)"
      ],
      "execution_count": null,
      "outputs": [
        {
          "output_type": "stream",
          "text": [
            "313/313 [==============================] - 1s 4ms/step - loss: 256.8950 - accuracy: 0.1779\n"
          ],
          "name": "stdout"
        },
        {
          "output_type": "execute_result",
          "data": {
            "text/plain": [
              "[256.89495849609375, 0.17790000140666962]"
            ]
          },
          "metadata": {
            "tags": []
          },
          "execution_count": 28
        }
      ]
    },
    {
      "cell_type": "code",
      "metadata": {
        "colab": {
          "base_uri": "https://localhost:8080/"
        },
        "id": "vczx44EyZ0nC",
        "outputId": "d2e0d558-9205-4e7c-8744-0fd1d220d45e"
      },
      "source": [
        "model4 = Sequential()\n",
        "model4.add(Conv2D(16,3,activation='relu',kernel_initializer='glorot_normal',input_shape=(28,28,1)))\n",
        "model4.add(MaxPool2D(2,2))\n",
        "model4.add(Flatten())\n",
        "model4.add(Dense(15,activation='relu',kernel_initializer='glorot_normal'))\n",
        "model4.add(Dense(10,activation='softmax'))\n",
        "\n",
        "opt2 = tf.keras.optimizers.SGD(learning_rate=0.1, momentum=0.9)\n",
        "model4.compile(optimizer=opt2, loss='categorical_crossentropy',metrics=['accuracy'])\n",
        "model4.fit(train_norm,train_y, epochs = 5, batch_size=32, verbose=1)\n",
        "model4.evaluate(test_norm,test_y,verbose=1)"
      ],
      "execution_count": 15,
      "outputs": [
        {
          "output_type": "stream",
          "text": [
            "Epoch 1/5\n",
            "313/313 [==============================] - 3s 10ms/step - loss: 0.6228 - accuracy: 0.8105\n",
            "Epoch 2/5\n",
            "313/313 [==============================] - 3s 10ms/step - loss: 0.2806 - accuracy: 0.9220\n",
            "Epoch 3/5\n",
            "313/313 [==============================] - 3s 10ms/step - loss: 0.2639 - accuracy: 0.9245\n",
            "Epoch 4/5\n",
            "313/313 [==============================] - 3s 10ms/step - loss: 0.2377 - accuracy: 0.9364\n",
            "Epoch 5/5\n",
            "313/313 [==============================] - 3s 10ms/step - loss: 0.2422 - accuracy: 0.9359\n",
            "313/313 [==============================] - 2s 5ms/step - loss: 0.2458 - accuracy: 0.9418\n"
          ],
          "name": "stdout"
        },
        {
          "output_type": "execute_result",
          "data": {
            "text/plain": [
              "[0.24575349688529968, 0.9417999982833862]"
            ]
          },
          "metadata": {
            "tags": []
          },
          "execution_count": 15
        }
      ]
    }
  ]
}
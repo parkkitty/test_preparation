{
  "nbformat": 4,
  "nbformat_minor": 0,
  "metadata": {
    "colab": {
      "name": "ai-no6.ipynb",
      "provenance": [],
      "authorship_tag": "ABX9TyMcY4fgcWob4ueUdP2SwVdf",
      "include_colab_link": true
    },
    "kernelspec": {
      "name": "python3",
      "display_name": "Python 3"
    },
    "language_info": {
      "name": "python"
    }
  },
  "cells": [
    {
      "cell_type": "markdown",
      "metadata": {
        "id": "view-in-github",
        "colab_type": "text"
      },
      "source": [
        "<a href=\"https://colab.research.google.com/github/parkkitty/test_preparation/blob/master/ai_no6.ipynb\" target=\"_parent\"><img src=\"https://colab.research.google.com/assets/colab-badge.svg\" alt=\"Open In Colab\"/></a>"
      ]
    },
    {
      "cell_type": "code",
      "metadata": {
        "id": "AcGR4h1v4Sdt"
      },
      "source": [
        "import tensorflow as tf\n",
        "from tensorflow.keras.preprocessing.sequence import pad_sequences\n"
      ],
      "execution_count": 2,
      "outputs": []
    },
    {
      "cell_type": "code",
      "metadata": {
        "id": "E2d2sRxR4pPc"
      },
      "source": [
        "model_rnn = tf.keras.Sequential([\n",
        "  tf.keras.layers.Embedding(1000002,32), # 100만개 단어 + PADDING 위한 '[PAD]'+ '[OOV]' = 1000000 + 1 + 1\n",
        "  tf.keras.layers.LSTM(50,return_sequences=True),# Layer를 하나 더 쌓으려면 true\n",
        "  tf.keras.layers.LSTM(50),\n",
        "  tf.keras.layers.Dense(6,activation='softmax')\n",
        "])"
      ],
      "execution_count": 4,
      "outputs": []
    },
    {
      "cell_type": "code",
      "metadata": {
        "colab": {
          "base_uri": "https://localhost:8080/"
        },
        "id": "KI3Fj_gz6LYy",
        "outputId": "be2eb4f0-f03c-4647-b694-34ae8429ff22"
      },
      "source": [
        "model_rnn.summary()"
      ],
      "execution_count": 6,
      "outputs": [
        {
          "output_type": "stream",
          "text": [
            "Model: \"sequential\"\n",
            "_________________________________________________________________\n",
            "Layer (type)                 Output Shape              Param #   \n",
            "=================================================================\n",
            "embedding_1 (Embedding)      (None, None, 32)          32000064  \n",
            "_________________________________________________________________\n",
            "lstm (LSTM)                  (None, None, 50)          16600     \n",
            "_________________________________________________________________\n",
            "lstm_1 (LSTM)                (None, 50)                20200     \n",
            "_________________________________________________________________\n",
            "dense (Dense)                (None, 6)                 306       \n",
            "=================================================================\n",
            "Total params: 32,037,170\n",
            "Trainable params: 32,037,170\n",
            "Non-trainable params: 0\n",
            "_________________________________________________________________\n"
          ],
          "name": "stdout"
        }
      ]
    },
    {
      "cell_type": "code",
      "metadata": {
        "colab": {
          "base_uri": "https://localhost:8080/"
        },
        "id": "hraTkFH86QQz",
        "outputId": "9647fb05-1da7-4fb5-d1e8-8d000194f4f5"
      },
      "source": [
        "#문장 자르기\n",
        "minwon_exam = [[1,2,3,4,5,6,7,8,9,10]]\n",
        "minwon_exam_cutting_post = pad_sequences(minwon_exam, maxlen=5, truncating='post')\n",
        "minwon_exam_cutting_pre = pad_sequences(minwon_exam, maxlen=5, truncating='pre')\n",
        "print(minwon_exam_cutting_pre)\n",
        "print(minwon_exam_cutting_post)"
      ],
      "execution_count": 7,
      "outputs": [
        {
          "output_type": "stream",
          "text": [
            "[[ 6  7  8  9 10]]\n",
            "[[1 2 3 4 5]]\n"
          ],
          "name": "stdout"
        }
      ]
    }
  ]
}